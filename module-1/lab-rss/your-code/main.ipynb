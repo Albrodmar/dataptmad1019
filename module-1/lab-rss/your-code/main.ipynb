{
 "cells": [
  {
   "cell_type": "markdown",
   "metadata": {},
   "source": [
    "# Working with RSS Feeds Lab\n",
    "\n",
    "Complete the following set of exercises to solidify your knowledge of parsing RSS feeds and extracting information from them."
   ]
  },
  {
   "cell_type": "code",
   "execution_count": 1,
   "metadata": {},
   "outputs": [],
   "source": [
    "import feedparser\n",
    "import pandas as pd"
   ]
  },
  {
   "cell_type": "markdown",
   "metadata": {},
   "source": [
    "### 1. Use feedparser to parse the following RSS feed URL."
   ]
  },
  {
   "cell_type": "code",
   "execution_count": 2,
   "metadata": {},
   "outputs": [],
   "source": [
    "url = 'http://feeds.feedburner.com/oreilly/radar/atom'"
   ]
  },
  {
   "cell_type": "code",
   "execution_count": 3,
   "metadata": {},
   "outputs": [],
   "source": [
    "d=feedparser.parse(url)"
   ]
  },
  {
   "cell_type": "markdown",
   "metadata": {},
   "source": [
    "### 2. Obtain a list of components (keys) that are available for this feed."
   ]
  },
  {
   "cell_type": "code",
   "execution_count": 4,
   "metadata": {},
   "outputs": [
    {
     "data": {
      "text/plain": [
       "['feed',\n",
       " 'entries',\n",
       " 'bozo',\n",
       " 'headers',\n",
       " 'updated',\n",
       " 'updated_parsed',\n",
       " 'href',\n",
       " 'status',\n",
       " 'encoding',\n",
       " 'version',\n",
       " 'namespaces']"
      ]
     },
     "execution_count": 4,
     "metadata": {},
     "output_type": "execute_result"
    }
   ],
   "source": [
    "list(d)"
   ]
  },
  {
   "cell_type": "markdown",
   "metadata": {},
   "source": [
    "### 3. Obtain a list of components (keys) that are available for the *feed* component of this RSS feed."
   ]
  },
  {
   "cell_type": "code",
   "execution_count": 5,
   "metadata": {},
   "outputs": [
    {
     "data": {
      "text/plain": [
       "['title',\n",
       " 'title_detail',\n",
       " 'links',\n",
       " 'link',\n",
       " 'subtitle',\n",
       " 'subtitle_detail',\n",
       " 'updated',\n",
       " 'updated_parsed',\n",
       " 'language',\n",
       " 'sy_updateperiod',\n",
       " 'sy_updatefrequency',\n",
       " 'generator_detail',\n",
       " 'generator',\n",
       " 'feedburner_info',\n",
       " 'geo_lat',\n",
       " 'geo_long',\n",
       " 'feedburner_emailserviceid',\n",
       " 'feedburner_feedburnerhostname']"
      ]
     },
     "execution_count": 5,
     "metadata": {},
     "output_type": "execute_result"
    }
   ],
   "source": [
    "list(d.feed)"
   ]
  },
  {
   "cell_type": "markdown",
   "metadata": {},
   "source": [
    "### 4. Extract and print the feed title, subtitle, author, and link."
   ]
  },
  {
   "cell_type": "code",
   "execution_count": 6,
   "metadata": {},
   "outputs": [
    {
     "name": "stdout",
     "output_type": "stream",
     "text": [
      "Radar Now, next, and beyond: Tracking need-to-know trends at the intersection of business and technology https://www.oreilly.com/radar\n"
     ]
    }
   ],
   "source": [
    "print(d.feed.title,d.feed.subtitle, d.feed.link) #there is no author"
   ]
  },
  {
   "cell_type": "markdown",
   "metadata": {},
   "source": [
    "### 5. Count the number of entries that are contained in this RSS feed."
   ]
  },
  {
   "cell_type": "code",
   "execution_count": 7,
   "metadata": {},
   "outputs": [
    {
     "data": {
      "text/plain": [
       "18"
      ]
     },
     "execution_count": 7,
     "metadata": {},
     "output_type": "execute_result"
    }
   ],
   "source": [
    "len(d.entries)"
   ]
  },
  {
   "cell_type": "markdown",
   "metadata": {},
   "source": [
    "### 6. Obtain a list of components (keys) available for an entry.\n",
    "\n",
    "*Hint: Remember to index first before requesting the keys*"
   ]
  },
  {
   "cell_type": "code",
   "execution_count": 8,
   "metadata": {},
   "outputs": [
    {
     "data": {
      "text/plain": [
       "['title',\n",
       " 'title_detail',\n",
       " 'links',\n",
       " 'link',\n",
       " 'comments',\n",
       " 'published',\n",
       " 'published_parsed',\n",
       " 'authors',\n",
       " 'author',\n",
       " 'author_detail',\n",
       " 'tags',\n",
       " 'id',\n",
       " 'guidislink',\n",
       " 'summary',\n",
       " 'summary_detail',\n",
       " 'content',\n",
       " 'wfw_commentrss',\n",
       " 'slash_comments',\n",
       " 'feedburner_origlink']"
      ]
     },
     "execution_count": 8,
     "metadata": {},
     "output_type": "execute_result"
    }
   ],
   "source": [
    "#z=[x for x in d.entries[1]]\n",
    "#print(z)\n",
    "\n",
    "list(d.entries[0])"
   ]
  },
  {
   "cell_type": "markdown",
   "metadata": {},
   "source": [
    "### 7. Extract a list of entry titles."
   ]
  },
  {
   "cell_type": "code",
   "execution_count": 9,
   "metadata": {},
   "outputs": [
    {
     "name": "stdout",
     "output_type": "stream",
     "text": [
      "['The road to Software 2.0', 'Four short links: 10 December 2019', 'Four short links: 9 December 2019', 'Four short links: 6 December 2019', 'Radar trends to watch: December 2019', 'Four short links: 5 December 2019', 'Four short links: 4 December 2019', 'Use your people as competitive advantage', 'Four short links: 3 December 2019', 'A 5G future', 'Four short links: 2 December 2019', 'Four short links: 29 November 2019', 'Four short links: 28 November 2019', 'Four short links: 27 November 2019', 'Moving AI and ML from research into production', 'Four short links: 26 November 2019', 'Four short links: 25 November 2019', 'Four short links: 22 November 2019']\n"
     ]
    }
   ],
   "source": [
    "titles_list=[]\n",
    "for i in range(len(d.entries)):\n",
    "    titles_list.append(d.entries[i].title)\n",
    "\n",
    "print(titles_list)"
   ]
  },
  {
   "cell_type": "markdown",
   "metadata": {},
   "source": [
    "### 8. Calculate the percentage of \"Four short links\" entry titles."
   ]
  },
  {
   "cell_type": "code",
   "execution_count": 10,
   "metadata": {},
   "outputs": [
    {
     "name": "stdout",
     "output_type": "stream",
     "text": [
      "Percentage of \"Four short links: 72.22%\n"
     ]
    }
   ],
   "source": [
    "fsl=[]\n",
    "for i in range(len(d.entries)):\n",
    "       if d.entries[i].title.startswith('Four short links'):\n",
    "             fsl.append(d.entries[i].title.startswith('Four short links'))\n",
    "\n",
    "print(f'Percentage of \"Four short links: {round((len(fsl)/len(titles_list))*100, 2)}%')\n",
    "    "
   ]
  },
  {
   "cell_type": "markdown",
   "metadata": {},
   "source": [
    "### 9. Create a Pandas data frame from the feed's entries."
   ]
  },
  {
   "cell_type": "code",
   "execution_count": 11,
   "metadata": {},
   "outputs": [],
   "source": [
    "import pandas as pd"
   ]
  },
  {
   "cell_type": "code",
   "execution_count": 12,
   "metadata": {},
   "outputs": [],
   "source": [
    "df = pd.DataFrame(d.entries)"
   ]
  },
  {
   "cell_type": "code",
   "execution_count": 13,
   "metadata": {},
   "outputs": [
    {
     "data": {
      "text/html": [
       "<div>\n",
       "<style scoped>\n",
       "    .dataframe tbody tr th:only-of-type {\n",
       "        vertical-align: middle;\n",
       "    }\n",
       "\n",
       "    .dataframe tbody tr th {\n",
       "        vertical-align: top;\n",
       "    }\n",
       "\n",
       "    .dataframe thead th {\n",
       "        text-align: right;\n",
       "    }\n",
       "</style>\n",
       "<table border=\"1\" class=\"dataframe\">\n",
       "  <thead>\n",
       "    <tr style=\"text-align: right;\">\n",
       "      <th></th>\n",
       "      <th>title</th>\n",
       "      <th>title_detail</th>\n",
       "      <th>links</th>\n",
       "      <th>link</th>\n",
       "      <th>comments</th>\n",
       "      <th>published</th>\n",
       "      <th>published_parsed</th>\n",
       "      <th>authors</th>\n",
       "      <th>author</th>\n",
       "      <th>author_detail</th>\n",
       "      <th>tags</th>\n",
       "      <th>id</th>\n",
       "      <th>guidislink</th>\n",
       "      <th>summary</th>\n",
       "      <th>summary_detail</th>\n",
       "      <th>content</th>\n",
       "      <th>wfw_commentrss</th>\n",
       "      <th>slash_comments</th>\n",
       "      <th>feedburner_origlink</th>\n",
       "    </tr>\n",
       "  </thead>\n",
       "  <tbody>\n",
       "    <tr>\n",
       "      <th>0</th>\n",
       "      <td>The road to Software 2.0</td>\n",
       "      <td>{'type': 'text/plain', 'language': None, 'base...</td>\n",
       "      <td>[{'rel': 'alternate', 'type': 'text/html', 'hr...</td>\n",
       "      <td>http://feedproxy.google.com/~r/oreilly/radar/a...</td>\n",
       "      <td>https://www.oreilly.com/radar/the-road-to-soft...</td>\n",
       "      <td>Tue, 10 Dec 2019 11:00:00 +0000</td>\n",
       "      <td>(2019, 12, 10, 11, 0, 0, 1, 344, 0)</td>\n",
       "      <td>[{'name': 'Mike Loukides and Ben Lorica'}]</td>\n",
       "      <td>Mike Loukides and Ben Lorica</td>\n",
       "      <td>{'name': 'Mike Loukides and Ben Lorica'}</td>\n",
       "      <td>[{'term': 'AI &amp; ML', 'scheme': None, 'label': ...</td>\n",
       "      <td>https://www.oreilly.com/radar/?p=11155</td>\n",
       "      <td>False</td>\n",
       "      <td>Roughly a year ago, we wrote “What machine lea...</td>\n",
       "      <td>{'type': 'text/html', 'language': None, 'base'...</td>\n",
       "      <td>[{'type': 'text/html', 'language': None, 'base...</td>\n",
       "      <td>https://www.oreilly.com/radar/the-road-to-soft...</td>\n",
       "      <td>0</td>\n",
       "      <td>https://www.oreilly.com/radar/the-road-to-soft...</td>\n",
       "    </tr>\n",
       "    <tr>\n",
       "      <th>1</th>\n",
       "      <td>Four short links: 10 December 2019</td>\n",
       "      <td>{'type': 'text/plain', 'language': None, 'base...</td>\n",
       "      <td>[{'rel': 'alternate', 'type': 'text/html', 'hr...</td>\n",
       "      <td>http://feedproxy.google.com/~r/oreilly/radar/a...</td>\n",
       "      <td>https://www.oreilly.com/radar/four-short-links...</td>\n",
       "      <td>Tue, 10 Dec 2019 05:01:00 +0000</td>\n",
       "      <td>(2019, 12, 10, 5, 1, 0, 1, 344, 0)</td>\n",
       "      <td>[{'name': 'Nat Torkington'}]</td>\n",
       "      <td>Nat Torkington</td>\n",
       "      <td>{'name': 'Nat Torkington'}</td>\n",
       "      <td>[{'term': 'Four Short Links', 'scheme': None, ...</td>\n",
       "      <td>https://www.oreilly.com/radar/?p=11192</td>\n",
       "      <td>False</td>\n",
       "      <td>The Hidden Worries of Facial Recognition Techn...</td>\n",
       "      <td>{'type': 'text/html', 'language': None, 'base'...</td>\n",
       "      <td>[{'type': 'text/html', 'language': None, 'base...</td>\n",
       "      <td>https://www.oreilly.com/radar/four-short-links...</td>\n",
       "      <td>0</td>\n",
       "      <td>https://www.oreilly.com/radar/four-short-links...</td>\n",
       "    </tr>\n",
       "  </tbody>\n",
       "</table>\n",
       "</div>"
      ],
      "text/plain": [
       "                                title  \\\n",
       "0            The road to Software 2.0   \n",
       "1  Four short links: 10 December 2019   \n",
       "\n",
       "                                        title_detail  \\\n",
       "0  {'type': 'text/plain', 'language': None, 'base...   \n",
       "1  {'type': 'text/plain', 'language': None, 'base...   \n",
       "\n",
       "                                               links  \\\n",
       "0  [{'rel': 'alternate', 'type': 'text/html', 'hr...   \n",
       "1  [{'rel': 'alternate', 'type': 'text/html', 'hr...   \n",
       "\n",
       "                                                link  \\\n",
       "0  http://feedproxy.google.com/~r/oreilly/radar/a...   \n",
       "1  http://feedproxy.google.com/~r/oreilly/radar/a...   \n",
       "\n",
       "                                            comments  \\\n",
       "0  https://www.oreilly.com/radar/the-road-to-soft...   \n",
       "1  https://www.oreilly.com/radar/four-short-links...   \n",
       "\n",
       "                         published                     published_parsed  \\\n",
       "0  Tue, 10 Dec 2019 11:00:00 +0000  (2019, 12, 10, 11, 0, 0, 1, 344, 0)   \n",
       "1  Tue, 10 Dec 2019 05:01:00 +0000   (2019, 12, 10, 5, 1, 0, 1, 344, 0)   \n",
       "\n",
       "                                      authors                        author  \\\n",
       "0  [{'name': 'Mike Loukides and Ben Lorica'}]  Mike Loukides and Ben Lorica   \n",
       "1                [{'name': 'Nat Torkington'}]                Nat Torkington   \n",
       "\n",
       "                              author_detail  \\\n",
       "0  {'name': 'Mike Loukides and Ben Lorica'}   \n",
       "1                {'name': 'Nat Torkington'}   \n",
       "\n",
       "                                                tags  \\\n",
       "0  [{'term': 'AI & ML', 'scheme': None, 'label': ...   \n",
       "1  [{'term': 'Four Short Links', 'scheme': None, ...   \n",
       "\n",
       "                                       id  guidislink  \\\n",
       "0  https://www.oreilly.com/radar/?p=11155       False   \n",
       "1  https://www.oreilly.com/radar/?p=11192       False   \n",
       "\n",
       "                                             summary  \\\n",
       "0  Roughly a year ago, we wrote “What machine lea...   \n",
       "1  The Hidden Worries of Facial Recognition Techn...   \n",
       "\n",
       "                                      summary_detail  \\\n",
       "0  {'type': 'text/html', 'language': None, 'base'...   \n",
       "1  {'type': 'text/html', 'language': None, 'base'...   \n",
       "\n",
       "                                             content  \\\n",
       "0  [{'type': 'text/html', 'language': None, 'base...   \n",
       "1  [{'type': 'text/html', 'language': None, 'base...   \n",
       "\n",
       "                                      wfw_commentrss slash_comments  \\\n",
       "0  https://www.oreilly.com/radar/the-road-to-soft...              0   \n",
       "1  https://www.oreilly.com/radar/four-short-links...              0   \n",
       "\n",
       "                                 feedburner_origlink  \n",
       "0  https://www.oreilly.com/radar/the-road-to-soft...  \n",
       "1  https://www.oreilly.com/radar/four-short-links...  "
      ]
     },
     "execution_count": 13,
     "metadata": {},
     "output_type": "execute_result"
    }
   ],
   "source": [
    "df.head(2)"
   ]
  },
  {
   "cell_type": "markdown",
   "metadata": {},
   "source": [
    "### 10. Count the number of entries per author and sort them in descending order."
   ]
  },
  {
   "cell_type": "code",
   "execution_count": 14,
   "metadata": {},
   "outputs": [
    {
     "data": {
      "text/plain": [
       "author\n",
       "Nat Torkington                  13\n",
       "Mike Loukides                    2\n",
       "Pamela Rucker                    1\n",
       "Mike Loukides and Ben Lorica     1\n",
       "Jenn Webb                        1\n",
       "Name: title, dtype: int64"
      ]
     },
     "execution_count": 14,
     "metadata": {},
     "output_type": "execute_result"
    }
   ],
   "source": [
    "df.groupby(['author'])['title'].count().sort_values(ascending=False)\n",
    "#df['author'].value_counts()"
   ]
  },
  {
   "cell_type": "markdown",
   "metadata": {},
   "source": [
    "### 11. Add a new column to the data frame that contains the length (number of characters) of each entry title. Return a data frame that contains the title, author, and title length of each entry in descending order (longest title length at the top)."
   ]
  },
  {
   "cell_type": "code",
   "execution_count": 15,
   "metadata": {},
   "outputs": [
    {
     "data": {
      "text/html": [
       "<div>\n",
       "<style scoped>\n",
       "    .dataframe tbody tr th:only-of-type {\n",
       "        vertical-align: middle;\n",
       "    }\n",
       "\n",
       "    .dataframe tbody tr th {\n",
       "        vertical-align: top;\n",
       "    }\n",
       "\n",
       "    .dataframe thead th {\n",
       "        text-align: right;\n",
       "    }\n",
       "</style>\n",
       "<table border=\"1\" class=\"dataframe\">\n",
       "  <thead>\n",
       "    <tr style=\"text-align: right;\">\n",
       "      <th></th>\n",
       "      <th>title</th>\n",
       "      <th>title_detail</th>\n",
       "      <th>links</th>\n",
       "      <th>link</th>\n",
       "      <th>comments</th>\n",
       "      <th>published</th>\n",
       "      <th>published_parsed</th>\n",
       "      <th>authors</th>\n",
       "      <th>author</th>\n",
       "      <th>author_detail</th>\n",
       "      <th>tags</th>\n",
       "      <th>id</th>\n",
       "      <th>guidislink</th>\n",
       "      <th>summary</th>\n",
       "      <th>summary_detail</th>\n",
       "      <th>content</th>\n",
       "      <th>wfw_commentrss</th>\n",
       "      <th>slash_comments</th>\n",
       "      <th>feedburner_origlink</th>\n",
       "      <th>length_title</th>\n",
       "    </tr>\n",
       "  </thead>\n",
       "  <tbody>\n",
       "    <tr>\n",
       "      <th>0</th>\n",
       "      <td>The road to Software 2.0</td>\n",
       "      <td>{'type': 'text/plain', 'language': None, 'base...</td>\n",
       "      <td>[{'rel': 'alternate', 'type': 'text/html', 'hr...</td>\n",
       "      <td>http://feedproxy.google.com/~r/oreilly/radar/a...</td>\n",
       "      <td>https://www.oreilly.com/radar/the-road-to-soft...</td>\n",
       "      <td>Tue, 10 Dec 2019 11:00:00 +0000</td>\n",
       "      <td>(2019, 12, 10, 11, 0, 0, 1, 344, 0)</td>\n",
       "      <td>[{'name': 'Mike Loukides and Ben Lorica'}]</td>\n",
       "      <td>Mike Loukides and Ben Lorica</td>\n",
       "      <td>{'name': 'Mike Loukides and Ben Lorica'}</td>\n",
       "      <td>[{'term': 'AI &amp; ML', 'scheme': None, 'label': ...</td>\n",
       "      <td>https://www.oreilly.com/radar/?p=11155</td>\n",
       "      <td>False</td>\n",
       "      <td>Roughly a year ago, we wrote “What machine lea...</td>\n",
       "      <td>{'type': 'text/html', 'language': None, 'base'...</td>\n",
       "      <td>[{'type': 'text/html', 'language': None, 'base...</td>\n",
       "      <td>https://www.oreilly.com/radar/the-road-to-soft...</td>\n",
       "      <td>0</td>\n",
       "      <td>https://www.oreilly.com/radar/the-road-to-soft...</td>\n",
       "      <td>24</td>\n",
       "    </tr>\n",
       "    <tr>\n",
       "      <th>1</th>\n",
       "      <td>Four short links: 10 December 2019</td>\n",
       "      <td>{'type': 'text/plain', 'language': None, 'base...</td>\n",
       "      <td>[{'rel': 'alternate', 'type': 'text/html', 'hr...</td>\n",
       "      <td>http://feedproxy.google.com/~r/oreilly/radar/a...</td>\n",
       "      <td>https://www.oreilly.com/radar/four-short-links...</td>\n",
       "      <td>Tue, 10 Dec 2019 05:01:00 +0000</td>\n",
       "      <td>(2019, 12, 10, 5, 1, 0, 1, 344, 0)</td>\n",
       "      <td>[{'name': 'Nat Torkington'}]</td>\n",
       "      <td>Nat Torkington</td>\n",
       "      <td>{'name': 'Nat Torkington'}</td>\n",
       "      <td>[{'term': 'Four Short Links', 'scheme': None, ...</td>\n",
       "      <td>https://www.oreilly.com/radar/?p=11192</td>\n",
       "      <td>False</td>\n",
       "      <td>The Hidden Worries of Facial Recognition Techn...</td>\n",
       "      <td>{'type': 'text/html', 'language': None, 'base'...</td>\n",
       "      <td>[{'type': 'text/html', 'language': None, 'base...</td>\n",
       "      <td>https://www.oreilly.com/radar/four-short-links...</td>\n",
       "      <td>0</td>\n",
       "      <td>https://www.oreilly.com/radar/four-short-links...</td>\n",
       "      <td>34</td>\n",
       "    </tr>\n",
       "  </tbody>\n",
       "</table>\n",
       "</div>"
      ],
      "text/plain": [
       "                                title  \\\n",
       "0            The road to Software 2.0   \n",
       "1  Four short links: 10 December 2019   \n",
       "\n",
       "                                        title_detail  \\\n",
       "0  {'type': 'text/plain', 'language': None, 'base...   \n",
       "1  {'type': 'text/plain', 'language': None, 'base...   \n",
       "\n",
       "                                               links  \\\n",
       "0  [{'rel': 'alternate', 'type': 'text/html', 'hr...   \n",
       "1  [{'rel': 'alternate', 'type': 'text/html', 'hr...   \n",
       "\n",
       "                                                link  \\\n",
       "0  http://feedproxy.google.com/~r/oreilly/radar/a...   \n",
       "1  http://feedproxy.google.com/~r/oreilly/radar/a...   \n",
       "\n",
       "                                            comments  \\\n",
       "0  https://www.oreilly.com/radar/the-road-to-soft...   \n",
       "1  https://www.oreilly.com/radar/four-short-links...   \n",
       "\n",
       "                         published                     published_parsed  \\\n",
       "0  Tue, 10 Dec 2019 11:00:00 +0000  (2019, 12, 10, 11, 0, 0, 1, 344, 0)   \n",
       "1  Tue, 10 Dec 2019 05:01:00 +0000   (2019, 12, 10, 5, 1, 0, 1, 344, 0)   \n",
       "\n",
       "                                      authors                        author  \\\n",
       "0  [{'name': 'Mike Loukides and Ben Lorica'}]  Mike Loukides and Ben Lorica   \n",
       "1                [{'name': 'Nat Torkington'}]                Nat Torkington   \n",
       "\n",
       "                              author_detail  \\\n",
       "0  {'name': 'Mike Loukides and Ben Lorica'}   \n",
       "1                {'name': 'Nat Torkington'}   \n",
       "\n",
       "                                                tags  \\\n",
       "0  [{'term': 'AI & ML', 'scheme': None, 'label': ...   \n",
       "1  [{'term': 'Four Short Links', 'scheme': None, ...   \n",
       "\n",
       "                                       id  guidislink  \\\n",
       "0  https://www.oreilly.com/radar/?p=11155       False   \n",
       "1  https://www.oreilly.com/radar/?p=11192       False   \n",
       "\n",
       "                                             summary  \\\n",
       "0  Roughly a year ago, we wrote “What machine lea...   \n",
       "1  The Hidden Worries of Facial Recognition Techn...   \n",
       "\n",
       "                                      summary_detail  \\\n",
       "0  {'type': 'text/html', 'language': None, 'base'...   \n",
       "1  {'type': 'text/html', 'language': None, 'base'...   \n",
       "\n",
       "                                             content  \\\n",
       "0  [{'type': 'text/html', 'language': None, 'base...   \n",
       "1  [{'type': 'text/html', 'language': None, 'base...   \n",
       "\n",
       "                                      wfw_commentrss slash_comments  \\\n",
       "0  https://www.oreilly.com/radar/the-road-to-soft...              0   \n",
       "1  https://www.oreilly.com/radar/four-short-links...              0   \n",
       "\n",
       "                                 feedburner_origlink  length_title  \n",
       "0  https://www.oreilly.com/radar/the-road-to-soft...            24  \n",
       "1  https://www.oreilly.com/radar/four-short-links...            34  "
      ]
     },
     "execution_count": 15,
     "metadata": {},
     "output_type": "execute_result"
    }
   ],
   "source": [
    "df['length_title'] = df['title'].str.len()\n",
    "df.head(2)"
   ]
  },
  {
   "cell_type": "code",
   "execution_count": 16,
   "metadata": {},
   "outputs": [
    {
     "data": {
      "text/html": [
       "<div>\n",
       "<style scoped>\n",
       "    .dataframe tbody tr th:only-of-type {\n",
       "        vertical-align: middle;\n",
       "    }\n",
       "\n",
       "    .dataframe tbody tr th {\n",
       "        vertical-align: top;\n",
       "    }\n",
       "\n",
       "    .dataframe thead th {\n",
       "        text-align: right;\n",
       "    }\n",
       "</style>\n",
       "<table border=\"1\" class=\"dataframe\">\n",
       "  <thead>\n",
       "    <tr style=\"text-align: right;\">\n",
       "      <th></th>\n",
       "      <th>title</th>\n",
       "      <th>title_detail</th>\n",
       "      <th>links</th>\n",
       "      <th>link</th>\n",
       "      <th>comments</th>\n",
       "      <th>published</th>\n",
       "      <th>published_parsed</th>\n",
       "      <th>authors</th>\n",
       "      <th>author</th>\n",
       "      <th>author_detail</th>\n",
       "      <th>tags</th>\n",
       "      <th>id</th>\n",
       "      <th>guidislink</th>\n",
       "      <th>summary</th>\n",
       "      <th>summary_detail</th>\n",
       "      <th>content</th>\n",
       "      <th>wfw_commentrss</th>\n",
       "      <th>slash_comments</th>\n",
       "      <th>feedburner_origlink</th>\n",
       "      <th>length_title</th>\n",
       "    </tr>\n",
       "  </thead>\n",
       "  <tbody>\n",
       "    <tr>\n",
       "      <th>14</th>\n",
       "      <td>Moving AI and ML from research into production</td>\n",
       "      <td>{'type': 'text/plain', 'language': None, 'base...</td>\n",
       "      <td>[{'rel': 'alternate', 'type': 'text/html', 'hr...</td>\n",
       "      <td>http://feedproxy.google.com/~r/oreilly/radar/a...</td>\n",
       "      <td>https://www.oreilly.com/radar/moving-ai-and-ml...</td>\n",
       "      <td>Tue, 26 Nov 2019 05:10:13 +0000</td>\n",
       "      <td>(2019, 11, 26, 5, 10, 13, 1, 330, 0)</td>\n",
       "      <td>[{'name': 'Jenn Webb'}]</td>\n",
       "      <td>Jenn Webb</td>\n",
       "      <td>{'name': 'Jenn Webb'}</td>\n",
       "      <td>[{'term': 'AI &amp; ML', 'scheme': None, 'label': ...</td>\n",
       "      <td>https://www.oreilly.com/radar/?p=10241</td>\n",
       "      <td>False</td>\n",
       "      <td>In this interview from O&amp;#8217;Reilly Foo Camp...</td>\n",
       "      <td>{'type': 'text/html', 'language': None, 'base'...</td>\n",
       "      <td>[{'type': 'text/html', 'language': None, 'base...</td>\n",
       "      <td>https://www.oreilly.com/radar/moving-ai-and-ml...</td>\n",
       "      <td>0</td>\n",
       "      <td>https://www.oreilly.com/radar/moving-ai-and-ml...</td>\n",
       "      <td>46</td>\n",
       "    </tr>\n",
       "    <tr>\n",
       "      <th>7</th>\n",
       "      <td>Use your people as competitive advantage</td>\n",
       "      <td>{'type': 'text/plain', 'language': None, 'base...</td>\n",
       "      <td>[{'rel': 'alternate', 'type': 'text/html', 'hr...</td>\n",
       "      <td>http://feedproxy.google.com/~r/oreilly/radar/a...</td>\n",
       "      <td>https://www.oreilly.com/radar/use-your-people-...</td>\n",
       "      <td>Tue, 03 Dec 2019 09:00:00 +0000</td>\n",
       "      <td>(2019, 12, 3, 9, 0, 0, 1, 337, 0)</td>\n",
       "      <td>[{'name': 'Pamela Rucker'}]</td>\n",
       "      <td>Pamela Rucker</td>\n",
       "      <td>{'name': 'Pamela Rucker'}</td>\n",
       "      <td>[{'term': 'Future of the Firm', 'scheme': None...</td>\n",
       "      <td>https://www.oreilly.com/radar/?p=11068</td>\n",
       "      <td>False</td>\n",
       "      <td>In a fast-paced digital world, it is tempting ...</td>\n",
       "      <td>{'type': 'text/html', 'language': None, 'base'...</td>\n",
       "      <td>[{'type': 'text/html', 'language': None, 'base...</td>\n",
       "      <td>https://www.oreilly.com/radar/use-your-people-...</td>\n",
       "      <td>0</td>\n",
       "      <td>https://www.oreilly.com/radar/use-your-people-...</td>\n",
       "      <td>40</td>\n",
       "    </tr>\n",
       "  </tbody>\n",
       "</table>\n",
       "</div>"
      ],
      "text/plain": [
       "                                             title  \\\n",
       "14  Moving AI and ML from research into production   \n",
       "7         Use your people as competitive advantage   \n",
       "\n",
       "                                         title_detail  \\\n",
       "14  {'type': 'text/plain', 'language': None, 'base...   \n",
       "7   {'type': 'text/plain', 'language': None, 'base...   \n",
       "\n",
       "                                                links  \\\n",
       "14  [{'rel': 'alternate', 'type': 'text/html', 'hr...   \n",
       "7   [{'rel': 'alternate', 'type': 'text/html', 'hr...   \n",
       "\n",
       "                                                 link  \\\n",
       "14  http://feedproxy.google.com/~r/oreilly/radar/a...   \n",
       "7   http://feedproxy.google.com/~r/oreilly/radar/a...   \n",
       "\n",
       "                                             comments  \\\n",
       "14  https://www.oreilly.com/radar/moving-ai-and-ml...   \n",
       "7   https://www.oreilly.com/radar/use-your-people-...   \n",
       "\n",
       "                          published                      published_parsed  \\\n",
       "14  Tue, 26 Nov 2019 05:10:13 +0000  (2019, 11, 26, 5, 10, 13, 1, 330, 0)   \n",
       "7   Tue, 03 Dec 2019 09:00:00 +0000     (2019, 12, 3, 9, 0, 0, 1, 337, 0)   \n",
       "\n",
       "                        authors         author              author_detail  \\\n",
       "14      [{'name': 'Jenn Webb'}]      Jenn Webb      {'name': 'Jenn Webb'}   \n",
       "7   [{'name': 'Pamela Rucker'}]  Pamela Rucker  {'name': 'Pamela Rucker'}   \n",
       "\n",
       "                                                 tags  \\\n",
       "14  [{'term': 'AI & ML', 'scheme': None, 'label': ...   \n",
       "7   [{'term': 'Future of the Firm', 'scheme': None...   \n",
       "\n",
       "                                        id  guidislink  \\\n",
       "14  https://www.oreilly.com/radar/?p=10241       False   \n",
       "7   https://www.oreilly.com/radar/?p=11068       False   \n",
       "\n",
       "                                              summary  \\\n",
       "14  In this interview from O&#8217;Reilly Foo Camp...   \n",
       "7   In a fast-paced digital world, it is tempting ...   \n",
       "\n",
       "                                       summary_detail  \\\n",
       "14  {'type': 'text/html', 'language': None, 'base'...   \n",
       "7   {'type': 'text/html', 'language': None, 'base'...   \n",
       "\n",
       "                                              content  \\\n",
       "14  [{'type': 'text/html', 'language': None, 'base...   \n",
       "7   [{'type': 'text/html', 'language': None, 'base...   \n",
       "\n",
       "                                       wfw_commentrss slash_comments  \\\n",
       "14  https://www.oreilly.com/radar/moving-ai-and-ml...              0   \n",
       "7   https://www.oreilly.com/radar/use-your-people-...              0   \n",
       "\n",
       "                                  feedburner_origlink  length_title  \n",
       "14  https://www.oreilly.com/radar/moving-ai-and-ml...            46  \n",
       "7   https://www.oreilly.com/radar/use-your-people-...            40  "
      ]
     },
     "execution_count": 16,
     "metadata": {},
     "output_type": "execute_result"
    }
   ],
   "source": [
    "df.sort_values('length_title', ascending = False).head(2)"
   ]
  },
  {
   "cell_type": "markdown",
   "metadata": {},
   "source": [
    "### 12. Create a list of entry titles whose summary includes the phrase \"machine learning.\""
   ]
  },
  {
   "cell_type": "code",
   "execution_count": 23,
   "metadata": {},
   "outputs": [
    {
     "data": {
      "text/html": [
       "<div>\n",
       "<style scoped>\n",
       "    .dataframe tbody tr th:only-of-type {\n",
       "        vertical-align: middle;\n",
       "    }\n",
       "\n",
       "    .dataframe tbody tr th {\n",
       "        vertical-align: top;\n",
       "    }\n",
       "\n",
       "    .dataframe thead th {\n",
       "        text-align: right;\n",
       "    }\n",
       "</style>\n",
       "<table border=\"1\" class=\"dataframe\">\n",
       "  <thead>\n",
       "    <tr style=\"text-align: right;\">\n",
       "      <th></th>\n",
       "      <th>title</th>\n",
       "      <th>title_detail</th>\n",
       "      <th>links</th>\n",
       "      <th>link</th>\n",
       "      <th>comments</th>\n",
       "      <th>published</th>\n",
       "      <th>published_parsed</th>\n",
       "      <th>authors</th>\n",
       "      <th>author</th>\n",
       "      <th>author_detail</th>\n",
       "      <th>tags</th>\n",
       "      <th>id</th>\n",
       "      <th>guidislink</th>\n",
       "      <th>summary</th>\n",
       "      <th>summary_detail</th>\n",
       "      <th>content</th>\n",
       "      <th>wfw_commentrss</th>\n",
       "      <th>slash_comments</th>\n",
       "      <th>feedburner_origlink</th>\n",
       "      <th>length_title</th>\n",
       "    </tr>\n",
       "  </thead>\n",
       "  <tbody>\n",
       "    <tr>\n",
       "      <th>0</th>\n",
       "      <td>The road to Software 2.0</td>\n",
       "      <td>{'type': 'text/plain', 'language': None, 'base...</td>\n",
       "      <td>[{'rel': 'alternate', 'type': 'text/html', 'hr...</td>\n",
       "      <td>http://feedproxy.google.com/~r/oreilly/radar/a...</td>\n",
       "      <td>https://www.oreilly.com/radar/the-road-to-soft...</td>\n",
       "      <td>Tue, 10 Dec 2019 11:00:00 +0000</td>\n",
       "      <td>(2019, 12, 10, 11, 0, 0, 1, 344, 0)</td>\n",
       "      <td>[{'name': 'Mike Loukides and Ben Lorica'}]</td>\n",
       "      <td>Mike Loukides and Ben Lorica</td>\n",
       "      <td>{'name': 'Mike Loukides and Ben Lorica'}</td>\n",
       "      <td>[{'term': 'AI &amp; ML', 'scheme': None, 'label': ...</td>\n",
       "      <td>https://www.oreilly.com/radar/?p=11155</td>\n",
       "      <td>False</td>\n",
       "      <td>Roughly a year ago, we wrote “What machine lea...</td>\n",
       "      <td>{'type': 'text/html', 'language': None, 'base'...</td>\n",
       "      <td>[{'type': 'text/html', 'language': None, 'base...</td>\n",
       "      <td>https://www.oreilly.com/radar/the-road-to-soft...</td>\n",
       "      <td>0</td>\n",
       "      <td>https://www.oreilly.com/radar/the-road-to-soft...</td>\n",
       "      <td>24</td>\n",
       "    </tr>\n",
       "    <tr>\n",
       "      <th>14</th>\n",
       "      <td>Moving AI and ML from research into production</td>\n",
       "      <td>{'type': 'text/plain', 'language': None, 'base...</td>\n",
       "      <td>[{'rel': 'alternate', 'type': 'text/html', 'hr...</td>\n",
       "      <td>http://feedproxy.google.com/~r/oreilly/radar/a...</td>\n",
       "      <td>https://www.oreilly.com/radar/moving-ai-and-ml...</td>\n",
       "      <td>Tue, 26 Nov 2019 05:10:13 +0000</td>\n",
       "      <td>(2019, 11, 26, 5, 10, 13, 1, 330, 0)</td>\n",
       "      <td>[{'name': 'Jenn Webb'}]</td>\n",
       "      <td>Jenn Webb</td>\n",
       "      <td>{'name': 'Jenn Webb'}</td>\n",
       "      <td>[{'term': 'AI &amp; ML', 'scheme': None, 'label': ...</td>\n",
       "      <td>https://www.oreilly.com/radar/?p=10241</td>\n",
       "      <td>False</td>\n",
       "      <td>In this interview from O&amp;#8217;Reilly Foo Camp...</td>\n",
       "      <td>{'type': 'text/html', 'language': None, 'base'...</td>\n",
       "      <td>[{'type': 'text/html', 'language': None, 'base...</td>\n",
       "      <td>https://www.oreilly.com/radar/moving-ai-and-ml...</td>\n",
       "      <td>0</td>\n",
       "      <td>https://www.oreilly.com/radar/moving-ai-and-ml...</td>\n",
       "      <td>46</td>\n",
       "    </tr>\n",
       "  </tbody>\n",
       "</table>\n",
       "</div>"
      ],
      "text/plain": [
       "                                             title  \\\n",
       "0                         The road to Software 2.0   \n",
       "14  Moving AI and ML from research into production   \n",
       "\n",
       "                                         title_detail  \\\n",
       "0   {'type': 'text/plain', 'language': None, 'base...   \n",
       "14  {'type': 'text/plain', 'language': None, 'base...   \n",
       "\n",
       "                                                links  \\\n",
       "0   [{'rel': 'alternate', 'type': 'text/html', 'hr...   \n",
       "14  [{'rel': 'alternate', 'type': 'text/html', 'hr...   \n",
       "\n",
       "                                                 link  \\\n",
       "0   http://feedproxy.google.com/~r/oreilly/radar/a...   \n",
       "14  http://feedproxy.google.com/~r/oreilly/radar/a...   \n",
       "\n",
       "                                             comments  \\\n",
       "0   https://www.oreilly.com/radar/the-road-to-soft...   \n",
       "14  https://www.oreilly.com/radar/moving-ai-and-ml...   \n",
       "\n",
       "                          published                      published_parsed  \\\n",
       "0   Tue, 10 Dec 2019 11:00:00 +0000   (2019, 12, 10, 11, 0, 0, 1, 344, 0)   \n",
       "14  Tue, 26 Nov 2019 05:10:13 +0000  (2019, 11, 26, 5, 10, 13, 1, 330, 0)   \n",
       "\n",
       "                                       authors                        author  \\\n",
       "0   [{'name': 'Mike Loukides and Ben Lorica'}]  Mike Loukides and Ben Lorica   \n",
       "14                     [{'name': 'Jenn Webb'}]                     Jenn Webb   \n",
       "\n",
       "                               author_detail  \\\n",
       "0   {'name': 'Mike Loukides and Ben Lorica'}   \n",
       "14                     {'name': 'Jenn Webb'}   \n",
       "\n",
       "                                                 tags  \\\n",
       "0   [{'term': 'AI & ML', 'scheme': None, 'label': ...   \n",
       "14  [{'term': 'AI & ML', 'scheme': None, 'label': ...   \n",
       "\n",
       "                                        id  guidislink  \\\n",
       "0   https://www.oreilly.com/radar/?p=11155       False   \n",
       "14  https://www.oreilly.com/radar/?p=10241       False   \n",
       "\n",
       "                                              summary  \\\n",
       "0   Roughly a year ago, we wrote “What machine lea...   \n",
       "14  In this interview from O&#8217;Reilly Foo Camp...   \n",
       "\n",
       "                                       summary_detail  \\\n",
       "0   {'type': 'text/html', 'language': None, 'base'...   \n",
       "14  {'type': 'text/html', 'language': None, 'base'...   \n",
       "\n",
       "                                              content  \\\n",
       "0   [{'type': 'text/html', 'language': None, 'base...   \n",
       "14  [{'type': 'text/html', 'language': None, 'base...   \n",
       "\n",
       "                                       wfw_commentrss slash_comments  \\\n",
       "0   https://www.oreilly.com/radar/the-road-to-soft...              0   \n",
       "14  https://www.oreilly.com/radar/moving-ai-and-ml...              0   \n",
       "\n",
       "                                  feedburner_origlink  length_title  \n",
       "0   https://www.oreilly.com/radar/the-road-to-soft...            24  \n",
       "14  https://www.oreilly.com/radar/moving-ai-and-ml...            46  "
      ]
     },
     "execution_count": 23,
     "metadata": {},
     "output_type": "execute_result"
    }
   ],
   "source": [
    "df[df['summary'].str.contains('machine learning')]"
   ]
  }
 ],
 "metadata": {
  "kernelspec": {
   "display_name": "Python [conda env:data_env]",
   "language": "python",
   "name": "conda-env-data_env-py"
  },
  "language_info": {
   "codemirror_mode": {
    "name": "ipython",
    "version": 3
   },
   "file_extension": ".py",
   "mimetype": "text/x-python",
   "name": "python",
   "nbconvert_exporter": "python",
   "pygments_lexer": "ipython3",
   "version": "3.7.5"
  }
 },
 "nbformat": 4,
 "nbformat_minor": 4
}
