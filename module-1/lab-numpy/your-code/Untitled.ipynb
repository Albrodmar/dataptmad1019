{
 "cells": [
  {
   "cell_type": "code",
   "execution_count": 8,
   "metadata": {},
   "outputs": [],
   "source": [
    "#1. Import the NUMPY package under the name np.\n",
    "import numpy as np"
   ]
  },
  {
   "cell_type": "code",
   "execution_count": 9,
   "metadata": {},
   "outputs": [
    {
     "name": "stdout",
     "output_type": "stream",
     "text": [
      "1.17.2\n"
     ]
    }
   ],
   "source": [
    "#2. Print the NUMPY version and the configuration.\n",
    "\n",
    "print(np.__version__)"
   ]
  },
  {
   "cell_type": "code",
   "execution_count": 10,
   "metadata": {},
   "outputs": [],
   "source": [
    "#3. Generate a 2x3x5 3-dimensional array with random values. Assign the array to variable \"a\"\n",
    "# Challenge: there are at least three easy ways that use numpy to generate random arrays. How many ways can you find?\n",
    "a=np.random.random((2,3,5))"
   ]
  },
  {
   "cell_type": "code",
   "execution_count": 11,
   "metadata": {},
   "outputs": [
    {
     "name": "stdout",
     "output_type": "stream",
     "text": [
      "[[[0.23329397 0.9768525  0.10099104 0.3698607  0.41405295]\n",
      "  [0.88659816 0.46745248 0.27761463 0.84530968 0.32235025]\n",
      "  [0.3369242  0.24311748 0.7637154  0.11012322 0.74792939]]\n",
      "\n",
      " [[0.19979279 0.38372494 0.45644645 0.50340292 0.20487276]\n",
      "  [0.95592744 0.34301452 0.47063378 0.1874014  0.82330324]\n",
      "  [0.86503144 0.36822569 0.33413658 0.60327999 0.900709  ]]]\n"
     ]
    }
   ],
   "source": [
    "#4. Print a.\n",
    "print(a)"
   ]
  },
  {
   "cell_type": "code",
   "execution_count": 12,
   "metadata": {},
   "outputs": [],
   "source": [
    "#5. Create a 5x2x3 3-dimensional array with all values equaling 1.\n",
    "#Assign the array to variable \"b\"\n",
    "\n",
    "b= np.ones((5,2,3))"
   ]
  },
  {
   "cell_type": "code",
   "execution_count": 13,
   "metadata": {},
   "outputs": [
    {
     "name": "stdout",
     "output_type": "stream",
     "text": [
      "Exercise 6\n",
      "[[[1. 1. 1.]\n",
      "  [1. 1. 1.]]\n",
      "\n",
      " [[1. 1. 1.]\n",
      "  [1. 1. 1.]]\n",
      "\n",
      " [[1. 1. 1.]\n",
      "  [1. 1. 1.]]\n",
      "\n",
      " [[1. 1. 1.]\n",
      "  [1. 1. 1.]]\n",
      "\n",
      " [[1. 1. 1.]\n",
      "  [1. 1. 1.]]]\n"
     ]
    }
   ],
   "source": [
    "#6. Print b.\n",
    "print('Exercise 6')\n",
    "print(b)"
   ]
  },
  {
   "cell_type": "code",
   "execution_count": 14,
   "metadata": {},
   "outputs": [],
   "source": [
    "#7. Do a and b have the same size? How do you prove that in Python code?\n",
    "#ValueError: operands could not be broadcast together with shapes (2,3,5) (5,2,3)\n",
    "# They have different size. Not possible in python to multiply two arrays with different size"
   ]
  },
  {
   "cell_type": "code",
   "execution_count": 15,
   "metadata": {},
   "outputs": [],
   "source": [
    "#8. Are you able to add a and b? Why or why not?\n",
    "\n",
    "#ValueError: operands could not be broadcast together with shapes (2,3,5) (5,2,3)"
   ]
  },
  {
   "cell_type": "code",
   "execution_count": 16,
   "metadata": {},
   "outputs": [
    {
     "name": "stdout",
     "output_type": "stream",
     "text": [
      "Exercise 9\n",
      "(2, 3, 5) [[[1. 1. 1. 1. 1.]\n",
      "  [1. 1. 1. 1. 1.]\n",
      "  [1. 1. 1. 1. 1.]]\n",
      "\n",
      " [[1. 1. 1. 1. 1.]\n",
      "  [1. 1. 1. 1. 1.]\n",
      "  [1. 1. 1. 1. 1.]]]\n"
     ]
    }
   ],
   "source": [
    "#9. Transpose b so that it has the same structure of a (i.e. become a 2x3x5 array). Assign the transposed array to varialbe \"c\".\n",
    "print('Exercise 9')\n",
    "c = b.reshape(2,3,5)\n",
    "print(c.shape, c)"
   ]
  },
  {
   "cell_type": "code",
   "execution_count": 17,
   "metadata": {},
   "outputs": [
    {
     "name": "stdout",
     "output_type": "stream",
     "text": [
      "Exercise 10\n"
     ]
    }
   ],
   "source": [
    "#10. Try to add a and c. Now it should work. Assign the sum to varialbe \"d\". But why does it work now?\n",
    "print('Exercise 10')\n",
    "d= (a+c)\n",
    "# it works because a and c have the same size"
   ]
  },
  {
   "cell_type": "code",
   "execution_count": 18,
   "metadata": {},
   "outputs": [
    {
     "name": "stdout",
     "output_type": "stream",
     "text": [
      "Exercise 11\n",
      "[[[0.23329397 0.9768525  0.10099104 0.3698607  0.41405295]\n",
      "  [0.88659816 0.46745248 0.27761463 0.84530968 0.32235025]\n",
      "  [0.3369242  0.24311748 0.7637154  0.11012322 0.74792939]]\n",
      "\n",
      " [[0.19979279 0.38372494 0.45644645 0.50340292 0.20487276]\n",
      "  [0.95592744 0.34301452 0.47063378 0.1874014  0.82330324]\n",
      "  [0.86503144 0.36822569 0.33413658 0.60327999 0.900709  ]]]\n",
      "[[[1.23329397 1.9768525  1.10099104 1.3698607  1.41405295]\n",
      "  [1.88659816 1.46745248 1.27761463 1.84530968 1.32235025]\n",
      "  [1.3369242  1.24311748 1.7637154  1.11012322 1.74792939]]\n",
      "\n",
      " [[1.19979279 1.38372494 1.45644645 1.50340292 1.20487276]\n",
      "  [1.95592744 1.34301452 1.47063378 1.1874014  1.82330324]\n",
      "  [1.86503144 1.36822569 1.33413658 1.60327999 1.900709  ]]]\n"
     ]
    }
   ],
   "source": [
    "#11. Print a and d. Notice the difference and relation of the two array in terms of the values? Explain.\n",
    "print(\"Exercise 11\")\n",
    "print(a)\n",
    "print(d)\n",
    "\n",
    "#d array is the same as a but every element has a +1 value."
   ]
  },
  {
   "cell_type": "code",
   "execution_count": 19,
   "metadata": {},
   "outputs": [
    {
     "name": "stdout",
     "output_type": "stream",
     "text": [
      "Exercise 12\n"
     ]
    }
   ],
   "source": [
    "#12. Multiply a and c. Assign the result to e.\n",
    "print('Exercise 12')\n",
    "e = a*c"
   ]
  },
  {
   "cell_type": "code",
   "execution_count": 20,
   "metadata": {},
   "outputs": [
    {
     "name": "stdout",
     "output_type": "stream",
     "text": [
      "Exercise 13\n",
      "[[[ True  True  True  True  True]\n",
      "  [ True  True  True  True  True]\n",
      "  [ True  True  True  True  True]]\n",
      "\n",
      " [[ True  True  True  True  True]\n",
      "  [ True  True  True  True  True]\n",
      "  [ True  True  True  True  True]]]\n"
     ]
    }
   ],
   "source": [
    "#13. Does e equal to a? Why or why not?\n",
    "print('Exercise 13')\n",
    "print(e == a)\n",
    "# All the elements are equal so both arrays are equal"
   ]
  },
  {
   "cell_type": "code",
   "execution_count": 21,
   "metadata": {},
   "outputs": [
    {
     "name": "stdout",
     "output_type": "stream",
     "text": [
      "Exercise 14\n",
      "d_max: 1.9768524972975272\n",
      "d_min: 1.100991037821015\n",
      "d_mean: 1.4898696328853143\n"
     ]
    }
   ],
   "source": [
    "#14. Identify the max, min, and mean values in d. Assign those values to variables \"d_max\", \"d_min\", and \"d_mean\"\n",
    "print('Exercise 14')\n",
    "d_max=np.max(d)\n",
    "print(f'd_max: {d_max}')\n",
    "d_min=np.min(d)\n",
    "print(f'd_min: {d_min}')\n",
    "d_mean=np.mean(d)\n",
    "print(f'd_mean: {d_mean}')"
   ]
  },
  {
   "cell_type": "code",
   "execution_count": 22,
   "metadata": {},
   "outputs": [
    {
     "name": "stdout",
     "output_type": "stream",
     "text": [
      "Exercise 15\n",
      "[[[1.23329397 1.9768525  1.10099104 1.3698607  1.41405295]\n",
      "  [1.88659816 1.46745248 1.27761463 1.84530968 1.32235025]\n",
      "  [1.3369242  1.24311748 1.7637154  1.11012322 1.74792939]]\n",
      "\n",
      " [[1.19979279 1.38372494 1.45644645 1.50340292 1.20487276]\n",
      "  [1.95592744 1.34301452 1.47063378 1.1874014  1.82330324]\n",
      "  [1.86503144 1.36822569 1.33413658 1.60327999 1.900709  ]]]\n"
     ]
    }
   ],
   "source": [
    "#15. Now we want to label the values in d. First create an empty array \"f\" with the same shape (i.e. 2x3x5) as d using `np.empty`.\n",
    "print('Exercise 15')\n",
    "f = np.empty([2,3,5])\n",
    "print(f)"
   ]
  },
  {
   "cell_type": "code",
   "execution_count": 42,
   "metadata": {},
   "outputs": [
    {
     "name": "stdout",
     "output_type": "stream",
     "text": [
      "Exercise 16\n",
      "[25, 0, 25, 25, 25, 25, 25, 25, 25, 25, 25, 25]\n"
     ]
    }
   ],
   "source": [
    "\"\"\"\n",
    "#16. Populate the values in f. For each value in d, if it's larger than d_min but smaller than d_mean, assign 25 to the corresponding value in f.\n",
    "If a value in d is larger than d_mean but smaller than d_max, assign 75 to the corresponding value in f.\n",
    "If a value equals to d_mean, assign 50 to the corresponding value in f.\n",
    "Assign 0 to the corresponding value(s) in f for d_min in d.\n",
    "Assign 100 to the corresponding value(s) in f for d_max in d.\n",
    "In the end, f should have only the following values: 0, 25, 50, 75, and 100.\n",
    "Note: you don't have to use Numpy in this question.\n",
    "\"\"\"\n",
    "print('Exercise 16')\n",
    "list_middle=[]                        # create an empty list to append all the results of the \"unpacking\"\n",
    "for a in d:\n",
    "    for b in a:\n",
    "        for c in b:                    #unpacking all the 3D array\n",
    "            if (d_min < c > d_mean):\n",
    "               list_middle.append(25)\n",
    "            elif (d_mean < c > d_max):\n",
    "               list_middle.append(75)\n",
    "            elif c == d_mean:\n",
    "               list_middle.append(50)\n",
    "            elif c == d_min:\n",
    "               list_middle.append(0)\n",
    "            elif c == d_max:\n",
    "               list_middle.append(100)\n",
    "\n",
    "print(list_middle)\n"
   ]
  },
  {
   "cell_type": "code",
   "execution_count": null,
   "metadata": {},
   "outputs": [],
   "source": []
  }
 ],
 "metadata": {
  "kernelspec": {
   "display_name": "Python [conda env:data_env]",
   "language": "python",
   "name": "conda-env-data_env-py"
  },
  "language_info": {
   "codemirror_mode": {
    "name": "ipython",
    "version": 3
   },
   "file_extension": ".py",
   "mimetype": "text/x-python",
   "name": "python",
   "nbconvert_exporter": "python",
   "pygments_lexer": "ipython3",
   "version": "3.7.5"
  }
 },
 "nbformat": 4,
 "nbformat_minor": 4
}
