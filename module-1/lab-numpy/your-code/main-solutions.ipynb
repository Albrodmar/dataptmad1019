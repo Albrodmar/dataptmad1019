{
 "cells": [
  {
   "cell_type": "code",
   "execution_count": 1,
   "metadata": {},
   "outputs": [],
   "source": [
    "#1. Import the NUMPY package under the name np.\n",
    "import numpy as np"
   ]
  },
  {
   "cell_type": "code",
   "execution_count": 2,
   "metadata": {},
   "outputs": [
    {
     "name": "stdout",
     "output_type": "stream",
     "text": [
      "1.17.2\n"
     ]
    }
   ],
   "source": [
    "#2. Print the NUMPY version and the configuration.\n",
    "\n",
    "print(np.__version__)"
   ]
  },
  {
   "cell_type": "code",
   "execution_count": 3,
   "metadata": {},
   "outputs": [],
   "source": [
    "#3. Generate a 2x3x5 3-dimensional array with random values. Assign the array to variable \"a\"\n",
    "# Challenge: there are at least three easy ways that use numpy to generate random arrays. How many ways can you find?\n",
    "a=np.random.random((2,3,5))"
   ]
  },
  {
   "cell_type": "code",
   "execution_count": 4,
   "metadata": {},
   "outputs": [
    {
     "name": "stdout",
     "output_type": "stream",
     "text": [
      "[[[0.18012191 0.59928234 0.0488124  0.46786227 0.93262131]\n",
      "  [0.67239849 0.11200714 0.6847132  0.24576023 0.26137089]\n",
      "  [0.18996794 0.75186829 0.03170896 0.9829499  0.80765932]]\n",
      "\n",
      " [[0.81765228 0.00671671 0.69077067 0.26272766 0.30542187]\n",
      "  [0.87208946 0.90812417 0.65878775 0.98750215 0.60448808]\n",
      "  [0.70526565 0.85672318 0.86177041 0.56463398 0.69978604]]]\n"
     ]
    }
   ],
   "source": [
    "#4. Print a.\n",
    "print(a)"
   ]
  },
  {
   "cell_type": "code",
   "execution_count": 5,
   "metadata": {},
   "outputs": [],
   "source": [
    "#5. Create a 5x2x3 3-dimensional array with all values equaling 1.\n",
    "#Assign the array to variable \"b\"\n",
    "\n",
    "b= np.ones((5,2,3))"
   ]
  },
  {
   "cell_type": "code",
   "execution_count": 6,
   "metadata": {},
   "outputs": [
    {
     "name": "stdout",
     "output_type": "stream",
     "text": [
      "Exercise 6\n",
      "[[[1. 1. 1.]\n",
      "  [1. 1. 1.]]\n",
      "\n",
      " [[1. 1. 1.]\n",
      "  [1. 1. 1.]]\n",
      "\n",
      " [[1. 1. 1.]\n",
      "  [1. 1. 1.]]\n",
      "\n",
      " [[1. 1. 1.]\n",
      "  [1. 1. 1.]]\n",
      "\n",
      " [[1. 1. 1.]\n",
      "  [1. 1. 1.]]]\n"
     ]
    }
   ],
   "source": [
    "#6. Print b.\n",
    "print('Exercise 6')\n",
    "print(b)"
   ]
  },
  {
   "cell_type": "code",
   "execution_count": 7,
   "metadata": {},
   "outputs": [],
   "source": [
    "#7. Do a and b have the same size? How do you prove that in Python code?\n",
    "#ValueError: operands could not be broadcast together with shapes (2,3,5) (5,2,3)\n",
    "# They have different size. Not possible in python to multiply two arrays with different size"
   ]
  },
  {
   "cell_type": "code",
   "execution_count": 8,
   "metadata": {},
   "outputs": [],
   "source": [
    "#8. Are you able to add a and b? Why or why not?\n",
    "\n",
    "#ValueError: operands could not be broadcast together with shapes (2,3,5) (5,2,3)"
   ]
  },
  {
   "cell_type": "code",
   "execution_count": 9,
   "metadata": {},
   "outputs": [
    {
     "name": "stdout",
     "output_type": "stream",
     "text": [
      "Exercise 9\n",
      "(2, 3, 5) [[[1. 1. 1. 1. 1.]\n",
      "  [1. 1. 1. 1. 1.]\n",
      "  [1. 1. 1. 1. 1.]]\n",
      "\n",
      " [[1. 1. 1. 1. 1.]\n",
      "  [1. 1. 1. 1. 1.]\n",
      "  [1. 1. 1. 1. 1.]]]\n"
     ]
    }
   ],
   "source": [
    "#9. Transpose b so that it has the same structure of a (i.e. become a 2x3x5 array). Assign the transposed array to varialbe \"c\".\n",
    "print('Exercise 9')\n",
    "c = b.reshape(2,3,5)\n",
    "print(c.shape, c)"
   ]
  },
  {
   "cell_type": "code",
   "execution_count": 10,
   "metadata": {},
   "outputs": [
    {
     "name": "stdout",
     "output_type": "stream",
     "text": [
      "Exercise 10\n"
     ]
    }
   ],
   "source": [
    "#10. Try to add a and c. Now it should work. Assign the sum to varialbe \"d\". But why does it work now?\n",
    "print('Exercise 10')\n",
    "d= (a+c)\n",
    "# it works because a and c have the same size"
   ]
  },
  {
   "cell_type": "code",
   "execution_count": 27,
   "metadata": {},
   "outputs": [
    {
     "name": "stdout",
     "output_type": "stream",
     "text": [
      "Exercise 11\n",
      "[[1.81765228 1.00671671 1.69077067 1.26272766 1.30542187]\n",
      " [1.87208946 1.90812417 1.65878775 1.98750215 1.60448808]\n",
      " [1.70526565 1.85672318 1.86177041 1.56463398 1.69978604]]\n",
      "And d\n",
      "[[[1.18012191 1.59928234 1.0488124  1.46786227 1.93262131]\n",
      "  [1.67239849 1.11200714 1.6847132  1.24576023 1.26137089]\n",
      "  [1.18996794 1.75186829 1.03170896 1.9829499  1.80765932]]\n",
      "\n",
      " [[1.81765228 1.00671671 1.69077067 1.26272766 1.30542187]\n",
      "  [1.87208946 1.90812417 1.65878775 1.98750215 1.60448808]\n",
      "  [1.70526565 1.85672318 1.86177041 1.56463398 1.69978604]]]\n",
      "2\n"
     ]
    }
   ],
   "source": [
    "#11. Print a and d. Notice the difference and relation of the two array in terms of the values? Explain.\n",
    "print(\"Exercise 11\")\n",
    "print(a)\n",
    "print(\"And d\")\n",
    "print(d)\n",
    "#d array is the same as a but every element has a +1 value."
   ]
  },
  {
   "cell_type": "code",
   "execution_count": 12,
   "metadata": {},
   "outputs": [
    {
     "name": "stdout",
     "output_type": "stream",
     "text": [
      "Exercise 12\n"
     ]
    }
   ],
   "source": [
    "#12. Multiply a and c. Assign the result to e.\n",
    "print('Exercise 12')\n",
    "e = a*c"
   ]
  },
  {
   "cell_type": "code",
   "execution_count": 13,
   "metadata": {},
   "outputs": [
    {
     "name": "stdout",
     "output_type": "stream",
     "text": [
      "Exercise 13\n",
      "[[[ True  True  True  True  True]\n",
      "  [ True  True  True  True  True]\n",
      "  [ True  True  True  True  True]]\n",
      "\n",
      " [[ True  True  True  True  True]\n",
      "  [ True  True  True  True  True]\n",
      "  [ True  True  True  True  True]]]\n"
     ]
    }
   ],
   "source": [
    "#13. Does e equal to a? Why or why not?\n",
    "print('Exercise 13')\n",
    "print(e == a)\n",
    "# All the elements are equal so both arrays are equal"
   ]
  },
  {
   "cell_type": "code",
   "execution_count": 14,
   "metadata": {},
   "outputs": [
    {
     "name": "stdout",
     "output_type": "stream",
     "text": [
      "Exercise 14\n",
      "d_max: 1.9875021463217186\n",
      "d_min: 1.0067167092572773\n",
      "d_mean: 1.5590521544105307\n"
     ]
    }
   ],
   "source": [
    "#14. Identify the max, min, and mean values in d. Assign those values to variables \"d_max\", \"d_min\", and \"d_mean\"\n",
    "print('Exercise 14')\n",
    "d_max=np.max(d)\n",
    "print(f'd_max: {d_max}')\n",
    "d_min=np.min(d)\n",
    "print(f'd_min: {d_min}')\n",
    "d_mean=np.mean(d)\n",
    "print(f'd_mean: {d_mean}')"
   ]
  },
  {
   "cell_type": "code",
   "execution_count": 37,
   "metadata": {},
   "outputs": [
    {
     "name": "stdout",
     "output_type": "stream",
     "text": [
      "Exercise 15\n",
      "[[[1.18012191 1.59928234 1.0488124  1.46786227 1.93262131]\n",
      "  [1.67239849 1.11200714 1.6847132  1.24576023 1.26137089]\n",
      "  [1.18996794 1.75186829 1.03170896 1.9829499  1.80765932]]\n",
      "\n",
      " [[1.81765228 1.00671671 1.69077067 1.26272766 1.30542187]\n",
      "  [1.87208946 1.90812417 1.65878775 1.98750215 1.60448808]\n",
      "  [1.70526565 1.85672318 1.86177041 1.56463398 1.69978604]]]\n"
     ]
    }
   ],
   "source": [
    "#15. Now we want to label the values in d. First create an empty array \"f\" with the same shape (i.e. 2x3x5) as d using `np.empty`.\n",
    "print('Exercise 15')\n",
    "f = np.empty([2,3,5])\n",
    "print(f)"
   ]
  },
  {
   "cell_type": "code",
   "execution_count": 38,
   "metadata": {},
   "outputs": [
    {
     "name": "stdout",
     "output_type": "stream",
     "text": [
      "Exercise 16\n",
      "[[[1.18012191 1.59928234 1.0488124  1.46786227 1.93262131]\n",
      "  [1.67239849 1.11200714 1.6847132  1.24576023 1.26137089]\n",
      "  [1.18996794 1.75186829 1.03170896 1.9829499  1.80765932]]\n",
      "\n",
      " [[1.81765228 1.00671671 1.69077067 1.26272766 1.30542187]\n",
      "  [1.87208946 1.90812417 1.65878775 1.98750215 1.60448808]\n",
      "  [1.70526565 1.85672318 1.86177041 1.56463398 1.69978604]]]\n"
     ]
    }
   ],
   "source": [
    "\"\"\"\n",
    "#16. Populate the values in f. For each value in d, if it's larger than d_min but smaller than d_mean, assign 25 to the corresponding value in f.\n",
    "If a value in d is larger than d_mean but smaller than d_max, assign 75 to the corresponding value in f.\n",
    "If a value equals to d_mean, assign 50 to the corresponding value in f.\n",
    "Assign 0 to the corresponding value(s) in f for d_min in d.\n",
    "Assign 100 to the corresponding value(s) in f for d_max in d.\n",
    "In the end, f should have only the following values: 0, 25, 50, 75, and 100.\n",
    "Note: you don't have to use Numpy in this question.\n",
    "\"\"\"\n",
    "print('Exercise 16')\n",
    "list_middle=[]                        # create an empty list to append all the results of the \"unpacking\"\n",
    "for a in f:\n",
    "    for b in a:\n",
    "        for c in b:             #unpacking all the 3D array\n",
    "            if (d_min < c < d_mean):\n",
    "               list_middle.append(25)\n",
    "            elif (d_mean < c < d_max):\n",
    "               list_middle.append(75)\n",
    "            elif c == d_mean:\n",
    "               list_middle.append(50)\n",
    "            elif c == d_min:\n",
    "               list_middle.append(0)\n",
    "            elif c == d_max:\n",
    "               list_middle.append(100)\n",
    "         \n",
    "f = np.reshape(list_middle, (2,3,5))\n",
    "print(f)"
   ]
  },
  {
   "cell_type": "markdown",
   "metadata": {},
   "source": [
    "#17. Print d and f. Do you have your expected f?\n",
    "For instance, if your d is:\n",
    "array([[[1.85836099, 1.67064465, 1.62576044, 1.40243961, 1.88454931],\n",
    "        [1.75354326, 1.69403643, 1.36729252, 1.61415071, 1.12104981],\n",
    "        [1.72201435, 1.1862918 , 1.87078449, 1.7726778 , 1.88180042]],\n",
    "\n",
    "       [[1.44747908, 1.31673383, 1.02000951, 1.52218947, 1.97066381],\n",
    "        [1.79129243, 1.74983003, 1.96028037, 1.85166831, 1.65450881],\n",
    "        [1.18068344, 1.9587381 , 1.00656599, 1.93402165, 1.73514584]]])\n",
    "\n",
    "Your f should be:\n",
    "array([[[ 75.,  75.,  75.,  25.,  75.],\n",
    "        [ 75.,  75.,  25.,  25.,  25.],\n",
    "        [ 75.,  25.,  75.,  75.,  75.]],\n",
    "\n",
    "       [[ 25.,  25.,  25.,  25., 100.],\n",
    "        [ 75.,  75.,  75.,  75.,  75.],\n",
    "        [ 25.,  75.,   0.,  75.,  75.]]])"
   ]
  },
  {
   "cell_type": "code",
   "execution_count": null,
   "metadata": {},
   "outputs": [],
   "source": [
    "#not quite the same solution as expected because I did not append the results into f but instead create a new list"
   ]
  },
  {
   "cell_type": "markdown",
   "metadata": {},
   "source": [
    "#18. Bonus question: instead of using numbers (i.e. 0, 25, 50, 75, and 100), how to \n",
    "        [ 'B',  'D',   'A',  'D', 'D']]])use string values \n",
    "(\"A\", \"B\", \"C\", \"D\", and \"E\") to label the array elements? You are expecting the result to be:\n",
    "array([[[ 'D',  'D',  'D',  'B',  'D'],\n",
    "        [ 'D',  'D',  'B',  'B',  'B'],\n",
    "        [ 'D',  'B',  'D',  'D',  'D']],\n",
    "       [[ 'B',  'B',  'B',  'B',  'E'],\n",
    "        [ 'D',  'D',  'D',  'D',  'D'],\n",
    "Again, you don't need Numpy in this question."
   ]
  },
  {
   "cell_type": "code",
   "execution_count": 42,
   "metadata": {},
   "outputs": [
    {
     "name": "stdout",
     "output_type": "stream",
     "text": [
      "[[['B' 'D' 'B' 'B' 'D']\n",
      "  ['D' 'B' 'D' 'B' 'B']\n",
      "  ['B' 'D' 'B' 'D' 'D']]\n",
      "\n",
      " [['D' 'A' 'D' 'B' 'B']\n",
      "  ['D' 'D' 'D' 'D' 'D']\n",
      "  ['D' 'D' 'D' 'D' 'D']]]\n"
     ]
    }
   ],
   "source": [
    "list_middle=[]                        # create an empty list to append all the results of the \"unpacking\"\n",
    "for a in f:\n",
    "    for b in a:\n",
    "        for c in b:             #unpacking all the 3D array\n",
    "            if (d_min < c < d_mean):\n",
    "               list_middle.append('B')\n",
    "            elif (d_mean < c < d_max):\n",
    "               list_middle.append('D')\n",
    "            elif c == d_mean:\n",
    "               list_middle.append('C')\n",
    "            elif c == d_min:\n",
    "               list_middle.append('A')\n",
    "            elif c == d_max:\n",
    "               list_middle.append('D')\n",
    "         \n",
    "f = np.reshape(list_middle, (2,3,5))\n",
    "print(f)"
   ]
  },
  {
   "cell_type": "code",
   "execution_count": null,
   "metadata": {},
   "outputs": [],
   "source": []
  }
 ],
 "metadata": {
  "kernelspec": {
   "display_name": "Python [conda env:data_env]",
   "language": "python",
   "name": "conda-env-data_env-py"
  },
  "language_info": {
   "codemirror_mode": {
    "name": "ipython",
    "version": 3
   },
   "file_extension": ".py",
   "mimetype": "text/x-python",
   "name": "python",
   "nbconvert_exporter": "python",
   "pygments_lexer": "ipython3",
   "version": "3.7.5"
  }
 },
 "nbformat": 4,
 "nbformat_minor": 4
}
